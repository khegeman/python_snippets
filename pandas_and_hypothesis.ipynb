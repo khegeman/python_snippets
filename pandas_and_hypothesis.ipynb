{
 "cells": [
  {
   "cell_type": "markdown",
   "metadata": {},
   "source": [
    "# Using Hypothesis to Generate Random Pandas DataFrames\n",
    "When I started working with [hypothesis](https://hypothesis.readthedocs.io), I couldn't find any examples that showed how to generate a pandas DataFrame.  The following is my solution.  It is meant as a starting point."
   ]
  },
  {
   "cell_type": "code",
   "execution_count": 1,
   "metadata": {
    "collapsed": false
   },
   "outputs": [
    {
     "name": "stderr",
     "output_type": "stream",
     "text": [
      "/home/khegeman/miniconda2/envs/notebooks/lib/python2.7/site-packages/pandas/computation/__init__.py:19: UserWarning: The installed version of numexpr 2.4.4 is not supported in pandas and will be not be used\n",
      "\n",
      "  UserWarning)\n"
     ]
    }
   ],
   "source": [
    "import hypothesis.strategies as st\n",
    "from hypothesis import given\n",
    "from hypothesis.extra.datetime import dates\n",
    "from functools import partial\n",
    "import string\n",
    "import pandas as pd"
   ]
  },
  {
   "cell_type": "markdown",
   "metadata": {},
   "source": [
    "## Column Strategy\n",
    "First I defined a strategy to generate dictionaries whose values are all python lists of the same length.  The generated dictionary will be passed to pandas to create the dataframe."
   ]
  },
  {
   "cell_type": "code",
   "execution_count": 2,
   "metadata": {
    "collapsed": false
   },
   "outputs": [],
   "source": [
    "#return a dictionary whose entries all contain random integers in lists of length N. \n",
    "@st.cacheable\n",
    "@st.defines_strategy\n",
    "def column_st(n):\n",
    "    return st.fixed_dictionaries({\n",
    "                           'A':st.lists(st.integers(), min_size=n, max_size=n),\n",
    "                           'B':st.lists(st.floats(), min_size=n, max_size=n),\n",
    "                           })\n",
    "\n",
    "\n"
   ]
  },
  {
   "cell_type": "markdown",
   "metadata": {},
   "source": [
    "## Timeseries Strategy\n",
    "A second strategy uses the column strategy to create the dataframe with a date index.  The third parameter to build is a strategy the chooses the number of rows for the dataframe in this case between 1 and 10 rows.  Then it passes the number of rows to use the column strategy.  The lambda takes a random date to use as a starting date and the generated dictionary and constructs a dataframe."
   ]
  },
  {
   "cell_type": "code",
   "execution_count": 3,
   "metadata": {
    "collapsed": true
   },
   "outputs": [],
   "source": [
    "@st.cacheable\n",
    "@st.defines_strategy\n",
    "def timeseries(column_strategy,min_year=2011, max_year=2020):\n",
    "    return st.builds(        \n",
    "        lambda x,y: pd.DataFrame(y).set_index(pd.date_range(x,periods=len(y.values()[0]))),\n",
    "        dates(min_year=min_year, max_year=max_year),\n",
    "        st.integers(min_value=1,max_value=10).flatmap(column_strategy))\n"
   ]
  },
  {
   "cell_type": "code",
   "execution_count": 4,
   "metadata": {
    "collapsed": false
   },
   "outputs": [
    {
     "data": {
      "text/html": [
       "<div>\n",
       "<table border=\"1\" class=\"dataframe\">\n",
       "  <thead>\n",
       "    <tr style=\"text-align: right;\">\n",
       "      <th></th>\n",
       "      <th>A</th>\n",
       "      <th>B</th>\n",
       "    </tr>\n",
       "  </thead>\n",
       "  <tbody>\n",
       "    <tr>\n",
       "      <th>2016-11-28</th>\n",
       "      <td>315037</td>\n",
       "      <td>-3.905226e+18</td>\n",
       "    </tr>\n",
       "    <tr>\n",
       "      <th>2016-11-29</th>\n",
       "      <td>0</td>\n",
       "      <td>3.402823e+38</td>\n",
       "    </tr>\n",
       "    <tr>\n",
       "      <th>2016-11-30</th>\n",
       "      <td>-337013254107</td>\n",
       "      <td>1.371757e+35</td>\n",
       "    </tr>\n",
       "  </tbody>\n",
       "</table>\n",
       "</div>"
      ],
      "text/plain": [
       "                       A             B\n",
       "2016-11-28        315037 -3.905226e+18\n",
       "2016-11-29             0  3.402823e+38\n",
       "2016-11-30 -337013254107  1.371757e+35"
      ]
     },
     "execution_count": 4,
     "metadata": {},
     "output_type": "execute_result"
    }
   ],
   "source": [
    "timeseries(column_st).example()"
   ]
  },
  {
   "cell_type": "markdown",
   "metadata": {},
   "source": [
    "## Generate Random Columns\n",
    "This is just a second strategy which generates columns with random names"
   ]
  },
  {
   "cell_type": "code",
   "execution_count": 5,
   "metadata": {
    "collapsed": false
   },
   "outputs": [],
   "source": [
    "\n",
    "\n",
    "#return a dictionary with n columns, with random labels\n",
    "@st.cacheable\n",
    "@st.defines_strategy\n",
    "def random_column_st(n,columns):\n",
    "    return st.dictionaries(st.text(string.ascii_uppercase,min_size=3,max_size=6), \n",
    "                           values=st.lists(st.integers(min_value=0,max_value=100), min_size=n, max_size=n),\n",
    "                           min_size=columns,max_size=columns)\n"
   ]
  },
  {
   "cell_type": "code",
   "execution_count": 6,
   "metadata": {
    "collapsed": false
   },
   "outputs": [
    {
     "data": {
      "text/html": [
       "<div>\n",
       "<table border=\"1\" class=\"dataframe\">\n",
       "  <thead>\n",
       "    <tr style=\"text-align: right;\">\n",
       "      <th></th>\n",
       "      <th>FAAS</th>\n",
       "      <th>ITEAGK</th>\n",
       "      <th>LDY</th>\n",
       "      <th>WSBDJD</th>\n",
       "      <th>WWDFUA</th>\n",
       "    </tr>\n",
       "  </thead>\n",
       "  <tbody>\n",
       "    <tr>\n",
       "      <th>2017-04-05</th>\n",
       "      <td>47</td>\n",
       "      <td>55</td>\n",
       "      <td>60</td>\n",
       "      <td>50</td>\n",
       "      <td>90</td>\n",
       "    </tr>\n",
       "    <tr>\n",
       "      <th>2017-04-06</th>\n",
       "      <td>7</td>\n",
       "      <td>77</td>\n",
       "      <td>67</td>\n",
       "      <td>59</td>\n",
       "      <td>99</td>\n",
       "    </tr>\n",
       "    <tr>\n",
       "      <th>2017-04-07</th>\n",
       "      <td>90</td>\n",
       "      <td>21</td>\n",
       "      <td>88</td>\n",
       "      <td>100</td>\n",
       "      <td>66</td>\n",
       "    </tr>\n",
       "    <tr>\n",
       "      <th>2017-04-08</th>\n",
       "      <td>61</td>\n",
       "      <td>21</td>\n",
       "      <td>31</td>\n",
       "      <td>12</td>\n",
       "      <td>12</td>\n",
       "    </tr>\n",
       "    <tr>\n",
       "      <th>2017-04-09</th>\n",
       "      <td>86</td>\n",
       "      <td>37</td>\n",
       "      <td>2</td>\n",
       "      <td>35</td>\n",
       "      <td>93</td>\n",
       "    </tr>\n",
       "    <tr>\n",
       "      <th>2017-04-10</th>\n",
       "      <td>23</td>\n",
       "      <td>2</td>\n",
       "      <td>88</td>\n",
       "      <td>56</td>\n",
       "      <td>22</td>\n",
       "    </tr>\n",
       "    <tr>\n",
       "      <th>2017-04-11</th>\n",
       "      <td>85</td>\n",
       "      <td>52</td>\n",
       "      <td>98</td>\n",
       "      <td>38</td>\n",
       "      <td>5</td>\n",
       "    </tr>\n",
       "  </tbody>\n",
       "</table>\n",
       "</div>"
      ],
      "text/plain": [
       "            FAAS  ITEAGK  LDY  WSBDJD  WWDFUA\n",
       "2017-04-05    47      55   60      50      90\n",
       "2017-04-06     7      77   67      59      99\n",
       "2017-04-07    90      21   88     100      66\n",
       "2017-04-08    61      21   31      12      12\n",
       "2017-04-09    86      37    2      35      93\n",
       "2017-04-10    23       2   88      56      22\n",
       "2017-04-11    85      52   98      38       5"
      ]
     },
     "execution_count": 6,
     "metadata": {},
     "output_type": "execute_result"
    }
   ],
   "source": [
    "timeseries(partial(random_column_st,columns=5)).example()"
   ]
  },
  {
   "cell_type": "code",
   "execution_count": null,
   "metadata": {
    "collapsed": true
   },
   "outputs": [],
   "source": []
  },
  {
   "cell_type": "code",
   "execution_count": null,
   "metadata": {
    "collapsed": true
   },
   "outputs": [],
   "source": []
  },
  {
   "cell_type": "code",
   "execution_count": null,
   "metadata": {
    "collapsed": true
   },
   "outputs": [],
   "source": []
  }
 ],
 "metadata": {
  "kernelspec": {
   "display_name": "Python 2",
   "language": "python",
   "name": "python2"
  },
  "language_info": {
   "codemirror_mode": {
    "name": "ipython",
    "version": 2
   },
   "file_extension": ".py",
   "mimetype": "text/x-python",
   "name": "python",
   "nbconvert_exporter": "python",
   "pygments_lexer": "ipython2",
   "version": "2.7.12"
  }
 },
 "nbformat": 4,
 "nbformat_minor": 0
}
