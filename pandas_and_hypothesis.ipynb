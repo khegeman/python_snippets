{
 "cells": [
  {
   "cell_type": "markdown",
   "metadata": {},
   "source": [
    "# Using Hypothesis to Generate Random Pandas DataFrames\n",
    "When I started working with [hypothesis](https://hypothesis.readthedocs.io), I couldn't find any examples that showed how to generate a pandas DataFrame.  The following is my solution.  It is meant as a starting point."
   ]
  },
  {
   "cell_type": "code",
   "execution_count": 1,
   "metadata": {
    "collapsed": false
   },
   "outputs": [],
   "source": [
    "import hypothesis.strategies as st\n",
    "from hypothesis import given\n",
    "from hypothesis.extra.datetime import dates\n",
    "from functools import partial\n",
    "import string\n",
    "import pandas as pd"
   ]
  },
  {
   "cell_type": "markdown",
   "metadata": {},
   "source": [
    "## Column Strategy\n",
    "First I defined a strategy to generate dictionaries whose values are all python lists of the same length.  The generated dictionary will be passed to pandas to create the dataframe."
   ]
  },
  {
   "cell_type": "code",
   "execution_count": 2,
   "metadata": {
    "collapsed": false
   },
   "outputs": [],
   "source": [
    "#return a dictionary whose entries all contain random integers in lists of length N. \n",
    "@st.cacheable\n",
    "@st.defines_strategy\n",
    "def column_st(n):\n",
    "    return st.fixed_dictionaries({\n",
    "                           'A':st.lists(st.integers(), min_size=n, max_size=n),\n",
    "                           'B':st.lists(st.floats(), min_size=n, max_size=n),\n",
    "                           })\n",
    "\n",
    "\n"
   ]
  },
  {
   "cell_type": "markdown",
   "metadata": {},
   "source": [
    "## Timeseries Strategy\n",
    "A second strategy uses the column strategy to create the dataframe with a date index.  The third parameter to build is a strategy the chooses the number of rows for the dataframe in this case between 1 and 10 rows.  Then it passes the number of rows to use the column strategy.  The lambda takes a random date to use as a starting date and the generated dictionary and constructs a dataframe."
   ]
  },
  {
   "cell_type": "code",
   "execution_count": 3,
   "metadata": {
    "collapsed": true
   },
   "outputs": [],
   "source": [
    "@st.cacheable\n",
    "@st.defines_strategy\n",
    "def timeseries(column_strategy,min_year=2011, max_year=2020):\n",
    "    return st.builds(        \n",
    "        lambda x,y: pd.DataFrame(y).set_index(pd.date_range(x,periods=len(y.values()[0]))),\n",
    "        dates(min_year=min_year, max_year=max_year),\n",
    "        st.integers(min_value=1,max_value=10).flatmap(column_strategy))\n"
   ]
  },
  {
   "cell_type": "code",
   "execution_count": 4,
   "metadata": {
    "collapsed": false
   },
   "outputs": [
    {
     "data": {
      "text/html": [
       "<div>\n",
       "<table border=\"1\" class=\"dataframe\">\n",
       "  <thead>\n",
       "    <tr style=\"text-align: right;\">\n",
       "      <th></th>\n",
       "      <th>A</th>\n",
       "      <th>B</th>\n",
       "    </tr>\n",
       "  </thead>\n",
       "  <tbody>\n",
       "    <tr>\n",
       "      <th>2018-03-10</th>\n",
       "      <td>2124305603451444508</td>\n",
       "      <td>NaN</td>\n",
       "    </tr>\n",
       "    <tr>\n",
       "      <th>2018-03-11</th>\n",
       "      <td>-4</td>\n",
       "      <td>-8.737824e+18</td>\n",
       "    </tr>\n",
       "    <tr>\n",
       "      <th>2018-03-12</th>\n",
       "      <td>1</td>\n",
       "      <td>-5.000000e-01</td>\n",
       "    </tr>\n",
       "    <tr>\n",
       "      <th>2018-03-13</th>\n",
       "      <td>459</td>\n",
       "      <td>3.811456e+17</td>\n",
       "    </tr>\n",
       "    <tr>\n",
       "      <th>2018-03-14</th>\n",
       "      <td>-2161139410193663</td>\n",
       "      <td>-1.435188e+18</td>\n",
       "    </tr>\n",
       "  </tbody>\n",
       "</table>\n",
       "</div>"
      ],
      "text/plain": [
       "                              A             B\n",
       "2018-03-10  2124305603451444508           NaN\n",
       "2018-03-11                   -4 -8.737824e+18\n",
       "2018-03-12                    1 -5.000000e-01\n",
       "2018-03-13                  459  3.811456e+17\n",
       "2018-03-14    -2161139410193663 -1.435188e+18"
      ]
     },
     "execution_count": 4,
     "metadata": {},
     "output_type": "execute_result"
    }
   ],
   "source": [
    "timeseries(column_st).example()"
   ]
  },
  {
   "cell_type": "markdown",
   "metadata": {},
   "source": [
    "## Generate Random Columns\n",
    "This is just a second strategy which generates columns with random names"
   ]
  },
  {
   "cell_type": "code",
   "execution_count": 5,
   "metadata": {
    "collapsed": false
   },
   "outputs": [],
   "source": [
    "\n",
    "\n",
    "#return a dictionary with n columns, with random labels\n",
    "@st.cacheable\n",
    "@st.defines_strategy\n",
    "def random_column_st(n,columns):\n",
    "    return st.dictionaries(st.text(string.ascii_uppercase,min_size=3,max_size=6), \n",
    "                           values=st.lists(st.integers(min_value=0,max_value=100), min_size=n, max_size=n),\n",
    "                           min_size=columns,max_size=columns)\n"
   ]
  },
  {
   "cell_type": "code",
   "execution_count": 6,
   "metadata": {
    "collapsed": false
   },
   "outputs": [
    {
     "data": {
      "text/html": [
       "<div>\n",
       "<table border=\"1\" class=\"dataframe\">\n",
       "  <thead>\n",
       "    <tr style=\"text-align: right;\">\n",
       "      <th></th>\n",
       "      <th>CICKJ</th>\n",
       "      <th>CLZIWK</th>\n",
       "      <th>DNISVB</th>\n",
       "      <th>MABOLR</th>\n",
       "      <th>ZNQROX</th>\n",
       "    </tr>\n",
       "  </thead>\n",
       "  <tbody>\n",
       "    <tr>\n",
       "      <th>2014-05-24</th>\n",
       "      <td>84</td>\n",
       "      <td>78</td>\n",
       "      <td>92</td>\n",
       "      <td>22</td>\n",
       "      <td>34</td>\n",
       "    </tr>\n",
       "    <tr>\n",
       "      <th>2014-05-25</th>\n",
       "      <td>16</td>\n",
       "      <td>47</td>\n",
       "      <td>84</td>\n",
       "      <td>68</td>\n",
       "      <td>96</td>\n",
       "    </tr>\n",
       "    <tr>\n",
       "      <th>2014-05-26</th>\n",
       "      <td>40</td>\n",
       "      <td>98</td>\n",
       "      <td>42</td>\n",
       "      <td>80</td>\n",
       "      <td>59</td>\n",
       "    </tr>\n",
       "    <tr>\n",
       "      <th>2014-05-27</th>\n",
       "      <td>44</td>\n",
       "      <td>94</td>\n",
       "      <td>72</td>\n",
       "      <td>0</td>\n",
       "      <td>80</td>\n",
       "    </tr>\n",
       "    <tr>\n",
       "      <th>2014-05-28</th>\n",
       "      <td>55</td>\n",
       "      <td>30</td>\n",
       "      <td>48</td>\n",
       "      <td>89</td>\n",
       "      <td>36</td>\n",
       "    </tr>\n",
       "    <tr>\n",
       "      <th>2014-05-29</th>\n",
       "      <td>30</td>\n",
       "      <td>34</td>\n",
       "      <td>3</td>\n",
       "      <td>90</td>\n",
       "      <td>82</td>\n",
       "    </tr>\n",
       "    <tr>\n",
       "      <th>2014-05-30</th>\n",
       "      <td>77</td>\n",
       "      <td>78</td>\n",
       "      <td>34</td>\n",
       "      <td>3</td>\n",
       "      <td>43</td>\n",
       "    </tr>\n",
       "  </tbody>\n",
       "</table>\n",
       "</div>"
      ],
      "text/plain": [
       "            CICKJ  CLZIWK  DNISVB  MABOLR  ZNQROX\n",
       "2014-05-24     84      78      92      22      34\n",
       "2014-05-25     16      47      84      68      96\n",
       "2014-05-26     40      98      42      80      59\n",
       "2014-05-27     44      94      72       0      80\n",
       "2014-05-28     55      30      48      89      36\n",
       "2014-05-29     30      34       3      90      82\n",
       "2014-05-30     77      78      34       3      43"
      ]
     },
     "execution_count": 6,
     "metadata": {},
     "output_type": "execute_result"
    }
   ],
   "source": [
    "timeseries(partial(random_column_st,columns=5)).example()"
   ]
  },
  {
   "cell_type": "code",
   "execution_count": null,
   "metadata": {
    "collapsed": true
   },
   "outputs": [],
   "source": []
  },
  {
   "cell_type": "code",
   "execution_count": null,
   "metadata": {
    "collapsed": true
   },
   "outputs": [],
   "source": []
  },
  {
   "cell_type": "code",
   "execution_count": null,
   "metadata": {
    "collapsed": true
   },
   "outputs": [],
   "source": []
  }
 ],
 "metadata": {
  "kernelspec": {
   "display_name": "Python 2",
   "language": "python",
   "name": "python2"
  },
  "language_info": {
   "codemirror_mode": {
    "name": "ipython",
    "version": 2
   },
   "file_extension": ".py",
   "mimetype": "text/x-python",
   "name": "python",
   "nbconvert_exporter": "python",
   "pygments_lexer": "ipython2",
   "version": "2.7.12"
  }
 },
 "nbformat": 4,
 "nbformat_minor": 0
}
